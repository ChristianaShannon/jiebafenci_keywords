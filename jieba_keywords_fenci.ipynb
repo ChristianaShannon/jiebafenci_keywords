{
 "cells": [
  {
   "cell_type": "code",
   "execution_count": 1,
   "metadata": {},
   "outputs": [],
   "source": [
    "import pandas as pd\n",
    "import jieba\n",
    "import csv\n",
    "import re"
   ]
  },
  {
   "cell_type": "code",
   "execution_count": 2,
   "metadata": {},
   "outputs": [],
   "source": [
    "file_origin=open('try.csv').read().split('\\n')  #一行行的读取内容  "
   ]
  },
  {
   "cell_type": "code",
   "execution_count": 3,
   "metadata": {},
   "outputs": [],
   "source": [
    "stop_words = ['深圳','深圳市','公司','中国']"
   ]
  },
  {
   "cell_type": "code",
   "execution_count": 4,
   "metadata": {},
   "outputs": [
    {
     "name": "stderr",
     "output_type": "stream",
     "text": [
      "Building prefix dict from the default dictionary ...\n",
      "Loading model from cache C:\\Users\\xing\\AppData\\Local\\Temp\\jieba.cache\n",
      "Loading model cost 0.859 seconds.\n",
      "Prefix dict has been built succesfully.\n"
     ]
    }
   ],
   "source": [
    "Rs = [] #建立存储分词的列表  \n",
    "for i in range(len(file_origin)):  \n",
    "    result = []  \n",
    "    seg_list = jieba.cut_for_search(file_origin[i])  \n",
    "    for w in seg_list :#读取每一行分词\n",
    "        if w not in stop_words and len(w)>1:#去除停用词和单字\n",
    "            result.append(w)  \n",
    "    Rs.append(result)#将该行分词写入列表形式的总分词列表  "
   ]
  },
  {
   "cell_type": "code",
   "execution_count": 5,
   "metadata": {},
   "outputs": [
    {
     "name": "stdout",
     "output_type": "stream",
     "text": [
      "[['光电', '科技', '有限', '有限公司', '龙岗', '岗区', '龙岗区', '布吉', '街道', '布澜路', '布吉', '科技', '新城', '甘李', '五路', '一号', '伦特', '研发', '大厦', '706'], ['五春堂', '健康', '管理', '科技', '有限', '有限公司', '罗湖', '湖区', '罗湖区', '东湖', '街道', '梧桐', '梧桐山', '背村', '27'], ['前海', '圣根', '生物', '科技', '生物科技', '有限', '有限公司', '深港', '合作', '前湾', '一路', '201', '入驻', '商务', '秘书', '有限', '有限公司'], ['自然', '印象', '生物', '科技', '生物科技', '有限', '有限公司', '龙岗', '岗区', '龙岗区', '坂田', '街道', '大道', '4012', '号元征', '科技', '工业', '工业园', '613'], ['阿芙', '科技', '有限', '有限公司', '宝安', '宝安区', '西乡', '街道', '固戍东财', '工业', '工业区', '21'], ['科技', '有限', '有限公司', '深港', '合作', '前湾', '一路', '201', '入驻', '商务', '秘书', '有限', '有限公司'], ['盐田', '盐田区', '大梅沙', '菜市', '市场', '菜市场', '二楼', '32', '盐田', '盐田区', '大梅沙', '内环', '环路', '内环路', '大梅沙', '菜市', '市场', '菜市场', '二楼', '青菜', '32'], []]\n"
     ]
    }
   ],
   "source": [
    "print(Rs)"
   ]
  },
  {
   "cell_type": "code",
   "execution_count": 8,
   "metadata": {},
   "outputs": [],
   "source": [
    "def preprocessor(text):\n",
    "    text = re.sub('[^\\u4e00-\\u9fa5]', ' ',str(text)) #去除所有的非汉字，如英文、数字和标点符号\n",
    "    return text.strip() #去掉首尾空格\n",
    "\n",
    "temp_data=list(map(preprocessor,Rs))"
   ]
  },
  {
   "cell_type": "code",
   "execution_count": 9,
   "metadata": {},
   "outputs": [
    {
     "name": "stdout",
     "output_type": "stream",
     "text": [
      "['光电', '科技', '有限', '有限公司', '龙岗', '岗区', '龙岗区', '布吉', '街道', '布澜路', '布吉', '科技', '新城', '甘李', '五路', '一号', '伦特', '研发', '大厦']\n"
     ]
    }
   ],
   "source": [
    "train_data = re.split('[\\s]+', temp_data[0]) #将上一部得到的字符串按空格分成List\n",
    "print(train_data)"
   ]
  },
  {
   "cell_type": "code",
   "execution_count": 10,
   "metadata": {},
   "outputs": [],
   "source": [
    "#写入CSV  \n",
    "dataframe = pd.DataFrame({'key_words':train_data})\n",
    "dataframe.to_csv(\"keywords.csv\",index=False,sep=',')"
   ]
  }
 ],
 "metadata": {
  "kernelspec": {
   "display_name": "Python 3",
   "language": "python",
   "name": "python3"
  },
  "language_info": {
   "codemirror_mode": {
    "name": "ipython",
    "version": 3
   },
   "file_extension": ".py",
   "mimetype": "text/x-python",
   "name": "python",
   "nbconvert_exporter": "python",
   "pygments_lexer": "ipython3",
   "version": "3.6.3"
  }
 },
 "nbformat": 4,
 "nbformat_minor": 2
}
